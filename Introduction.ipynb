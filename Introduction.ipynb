{
 "cells": [
  {
   "cell_type": "markdown",
   "metadata": {},
   "source": [
    "# Introduction to PyTorch 🔥"
   ]
  },
  {
   "cell_type": "markdown",
   "metadata": {},
   "source": [
    "Some points to note :- \n",
    "1. numpy doesn't run on gpu  \n",
    "2. cpu not capable to do lot of smaller calculation as compare to gpu  \n",
    "3. a cpu has 4-12 cores where as a gpu has thousands of cores  \n",
    "4. So PyTorch is just like numpy on gpu with some nice helper functions  \n",
    "5. A tensor is like an array..multidimensional array"
   ]
  },
  {
   "cell_type": "code",
   "execution_count": 1,
   "metadata": {},
   "outputs": [
    {
     "name": "stdout",
     "output_type": "stream",
     "text": [
      "False\n"
     ]
    }
   ],
   "source": [
    "import torch\n",
    "import torchvision\n",
    "print(torch.cuda.is_available())"
   ]
  },
  {
   "cell_type": "markdown",
   "metadata": {},
   "source": [
    "## PyTorch Tensor"
   ]
  },
  {
   "cell_type": "code",
   "execution_count": 2,
   "metadata": {},
   "outputs": [
    {
     "name": "stdout",
     "output_type": "stream",
     "text": [
      "tensor([2, 2, 1])\n"
     ]
    }
   ],
   "source": [
    "#One dimensional tensor is just a normal array or just a list\n",
    "a = torch.tensor([2,2,1])\n",
    "print(a)"
   ]
  },
  {
   "cell_type": "code",
   "execution_count": 3,
   "metadata": {},
   "outputs": [
    {
     "name": "stdout",
     "output_type": "stream",
     "text": [
      "tensor([[2, 1, 4],\n",
      "        [3, 5, 4],\n",
      "        [4, 2, 1],\n",
      "        [3, 4, 7]])\n"
     ]
    }
   ],
   "source": [
    "#2-D tensor or a matrix \n",
    "b = torch.tensor([[2,1,4], [3,5,4], [4,2,1], [3,4,7]])\n",
    "print(b)"
   ]
  },
  {
   "cell_type": "code",
   "execution_count": 4,
   "metadata": {},
   "outputs": [
    {
     "name": "stdout",
     "output_type": "stream",
     "text": [
      "torch.Size([3])\n",
      "torch.Size([3])\n",
      "torch.Size([4, 3])\n",
      "torch.Size([4, 3])\n"
     ]
    }
   ],
   "source": [
    "#The size of tensors\n",
    "print(a.size())\n",
    "print(a.shape)\n",
    "print(b.size())\n",
    "print(b.shape)"
   ]
  },
  {
   "cell_type": "code",
   "execution_count": 5,
   "metadata": {},
   "outputs": [
    {
     "name": "stdout",
     "output_type": "stream",
     "text": [
      "4\n"
     ]
    }
   ],
   "source": [
    "#Get the heigh or number of rows in b\n",
    "print(b.shape[0])"
   ]
  },
  {
   "cell_type": "code",
   "execution_count": 6,
   "metadata": {},
   "outputs": [
    {
     "name": "stdout",
     "output_type": "stream",
     "text": [
      "tensor([[2., 1., 4.],\n",
      "        [3., 5., 6.],\n",
      "        [1., 2., 0.]])\n",
      "torch.float32\n"
     ]
    }
   ],
   "source": [
    "#To define a float tensor\n",
    "c = torch.FloatTensor([[2,1,4],[3,5,6], [1,2,0]])\n",
    "print(c)\n",
    "print(c.dtype)\n",
    "#or we can define as \n",
    "#c = torch.tensor([[2,1,4], [3,5,6], [1,2,0]], dtype = torch.float)\n",
    "#print(c)"
   ]
  },
  {
   "cell_type": "code",
   "execution_count": 7,
   "metadata": {},
   "outputs": [
    {
     "name": "stdout",
     "output_type": "stream",
     "text": [
      "tensor([[2., 1., 5.],\n",
      "        [3., 5., 7.],\n",
      "        [4., 5., 7.]], dtype=torch.float64)\n",
      "torch.float64\n"
     ]
    }
   ],
   "source": [
    "d = torch.DoubleTensor([[2,1,5], [3,5,7], [4,5,7]])\n",
    "print(d)\n",
    "print(d.dtype)\n",
    "#d = torch.tensor([[2,1,4], [3,5,6], [1,2,0]], dtype = torch.double)\n",
    "#print(c)"
   ]
  },
  {
   "cell_type": "markdown",
   "metadata": {},
   "source": [
    "> float64 and double are same"
   ]
  },
  {
   "cell_type": "code",
   "execution_count": 8,
   "metadata": {},
   "outputs": [
    {
     "name": "stdout",
     "output_type": "stream",
     "text": [
      "tensor(2.6667)\n"
     ]
    }
   ],
   "source": [
    "print(c.mean())"
   ]
  },
  {
   "cell_type": "code",
   "execution_count": 9,
   "metadata": {},
   "outputs": [
    {
     "name": "stdout",
     "output_type": "stream",
     "text": [
      "tensor(4.3333, dtype=torch.float64)\n"
     ]
    }
   ],
   "source": [
    "print(d.mean())"
   ]
  },
  {
   "cell_type": "code",
   "execution_count": 10,
   "metadata": {},
   "outputs": [
    {
     "name": "stdout",
     "output_type": "stream",
     "text": [
      "tensor(2.)\n"
     ]
    }
   ],
   "source": [
    "print(c.std())"
   ]
  },
  {
   "cell_type": "code",
   "execution_count": 11,
   "metadata": {},
   "outputs": [
    {
     "name": "stdout",
     "output_type": "stream",
     "text": [
      "tensor(2.0616, dtype=torch.float64)\n"
     ]
    }
   ],
   "source": [
    "print(d.std())"
   ]
  },
  {
   "cell_type": "code",
   "execution_count": 12,
   "metadata": {},
   "outputs": [
    {
     "name": "stdout",
     "output_type": "stream",
     "text": [
      "tensor([[2, 1, 4],\n",
      "        [3, 5, 4],\n",
      "        [4, 2, 1],\n",
      "        [3, 4, 7]])\n",
      "---------------------------\n",
      "tensor([[2, 1, 4, 3],\n",
      "        [5, 4, 4, 2],\n",
      "        [1, 3, 4, 7]])\n"
     ]
    }
   ],
   "source": [
    "print(b)\n",
    "print('---------------------------')\n",
    "#Reshape b\n",
    "print(b.view(-1,4))"
   ]
  },
  {
   "cell_type": "code",
   "execution_count": 13,
   "metadata": {},
   "outputs": [
    {
     "name": "stdout",
     "output_type": "stream",
     "text": [
      "tensor([[[-0.7074,  1.6480, -0.3119,  1.8656],\n",
      "         [-1.0067, -1.0302,  0.3655,  0.9227],\n",
      "         [-1.6328,  1.1835, -0.2267, -0.4882]],\n",
      "\n",
      "        [[ 1.6090,  1.1417, -2.0049, -0.3159],\n",
      "         [-2.1051, -1.1786,  1.5390, -0.0281],\n",
      "         [ 0.9930,  0.2057, -1.4689,  0.6962]]])\n"
     ]
    }
   ],
   "source": [
    "#create a 3d tensor with  2 channels, 3 rows and 4 columns\n",
    "three_dim = torch.randn(2,3,4)\n",
    "print(three_dim)\n"
   ]
  },
  {
   "cell_type": "code",
   "execution_count": 14,
   "metadata": {},
   "outputs": [
    {
     "name": "stdout",
     "output_type": "stream",
     "text": [
      "tensor([[-0.7074,  1.6480, -0.3119,  1.8656, -1.0067, -1.0302,  0.3655,  0.9227,\n",
      "         -1.6328,  1.1835, -0.2267, -0.4882],\n",
      "        [ 1.6090,  1.1417, -2.0049, -0.3159, -2.1051, -1.1786,  1.5390, -0.0281,\n",
      "          0.9930,  0.2057, -1.4689,  0.6962]])\n"
     ]
    }
   ],
   "source": [
    "#reshape to 2 rows and 12 columns\n",
    "print(three_dim.view(2,12))"
   ]
  },
  {
   "cell_type": "code",
   "execution_count": 15,
   "metadata": {},
   "outputs": [
    {
     "name": "stdout",
     "output_type": "stream",
     "text": [
      "tensor([[-0.7074,  1.6480, -0.3119,  1.8656, -1.0067, -1.0302,  0.3655,  0.9227,\n",
      "         -1.6328,  1.1835, -0.2267, -0.4882],\n",
      "        [ 1.6090,  1.1417, -2.0049, -0.3159, -2.1051, -1.1786,  1.5390, -0.0281,\n",
      "          0.9930,  0.2057, -1.4689,  0.6962]])\n"
     ]
    }
   ],
   "source": [
    "#alternate way\n",
    "print(three_dim.view(2,-1))"
   ]
  },
  {
   "cell_type": "code",
   "execution_count": 16,
   "metadata": {},
   "outputs": [
    {
     "name": "stdout",
     "output_type": "stream",
     "text": [
      "tensor([[0.1780, 0.5471, 0.1403, 0.2456],\n",
      "        [0.4704, 0.5888, 0.0583, 0.1985],\n",
      "        [0.2436, 0.9746, 0.8963, 0.7229],\n",
      "        [0.0550, 0.0882, 0.1736, 0.9473]])\n"
     ]
    }
   ],
   "source": [
    "#create a matrix with random numbers between 0 and 1\n",
    "r = torch.rand(4,4)\n",
    "print(r)"
   ]
  },
  {
   "cell_type": "code",
   "execution_count": 17,
   "metadata": {},
   "outputs": [
    {
     "name": "stdout",
     "output_type": "stream",
     "text": [
      "tensor([[-1.2757, -1.4779,  2.0025,  0.2972],\n",
      "        [ 0.5521, -0.2533, -0.0532, -0.2204],\n",
      "        [-0.0253,  1.6751, -1.6184,  0.3618],\n",
      "        [ 1.3005, -2.0968,  0.7155, -0.2095]])\n",
      "torch.float32\n"
     ]
    }
   ],
   "source": [
    "#create a matrix with random numbers taken from  a normal distribution with mean 0 and variance of 1\n",
    "r2 = torch.randn(4,4)\n",
    "print(r2)\n",
    "print(r2.dtype)"
   ]
  },
  {
   "cell_type": "code",
   "execution_count": 18,
   "metadata": {},
   "outputs": [
    {
     "name": "stdout",
     "output_type": "stream",
     "text": [
      "tensor([8, 6, 9, 7, 7])\n",
      "torch.int64\n"
     ]
    }
   ],
   "source": [
    "#create an array of 5 random integers from values between 6 and 9 (exclusive 10)\n",
    "r3 = torch.randint(6,10, (5,))\n",
    "print(r3)\n",
    "print(r3.dtype)"
   ]
  },
  {
   "cell_type": "code",
   "execution_count": 19,
   "metadata": {},
   "outputs": [
    {
     "name": "stdout",
     "output_type": "stream",
     "text": [
      "tensor([[8, 8, 7],\n",
      "        [9, 6, 8],\n",
      "        [6, 6, 6]])\n"
     ]
    }
   ],
   "source": [
    "#create a 2-D array of size 3x3 filled with random integers from values 6 and 9 (exclusive of 10)\n",
    "r4 = torch.randint(6,10, (3,3))\n",
    "print(r4)"
   ]
  },
  {
   "cell_type": "code",
   "execution_count": 20,
   "metadata": {},
   "outputs": [
    {
     "name": "stdout",
     "output_type": "stream",
     "text": [
      "9\n",
      "5\n"
     ]
    }
   ],
   "source": [
    "#Get the number of elements in array\n",
    "print(torch.numel(r4))\n",
    "print(torch.numel(r3))"
   ]
  },
  {
   "cell_type": "code",
   "execution_count": 21,
   "metadata": {},
   "outputs": [
    {
     "name": "stdout",
     "output_type": "stream",
     "text": [
      "tensor([[0, 0, 0],\n",
      "        [0, 0, 0],\n",
      "        [0, 0, 0]])\n",
      "tensor([[1., 1., 1.],\n",
      "        [1., 1., 1.],\n",
      "        [1., 1., 1.]])\n"
     ]
    }
   ],
   "source": [
    "#create a 3x3 matrix of zeros and dtype of long \n",
    "z = torch.zeros(3,3,dtype = torch.long)\n",
    "print(z)\n",
    "\n",
    "#construct a 3x3 matrix of ones \n",
    "o = torch.ones(3,3)\n",
    "print(o)"
   ]
  },
  {
   "cell_type": "code",
   "execution_count": 22,
   "metadata": {},
   "outputs": [
    {
     "name": "stdout",
     "output_type": "stream",
     "text": [
      "tensor([[ 0.3031, -1.1381, -1.5346, -0.0392],\n",
      "        [-1.2925,  0.3874, -0.5771,  0.7902],\n",
      "        [ 0.0191, -0.1143, -0.1777, -2.0918],\n",
      "        [-1.3411, -0.0622,  0.6044, -0.2578]], dtype=torch.float64)\n",
      "torch.float64\n"
     ]
    }
   ],
   "source": [
    "#Convert the data type of the tensor\n",
    "r2_like  = torch.randn_like(r2, dtype = torch.double)\n",
    "print(r2_like)\n",
    "print(r2_like.dtype)"
   ]
  },
  {
   "cell_type": "code",
   "execution_count": 23,
   "metadata": {},
   "outputs": [
    {
     "name": "stdout",
     "output_type": "stream",
     "text": [
      "tensor([[-1.0977, -0.9308,  2.1427,  0.5429],\n",
      "        [ 1.0226,  0.3355,  0.0051, -0.0219],\n",
      "        [ 0.2184,  2.6497, -0.7222,  1.0847],\n",
      "        [ 1.3555, -2.0086,  0.8892,  0.7378]])\n"
     ]
    }
   ],
   "source": [
    "#Add two tensors, make  sure they are the same size and same data type\n",
    "add_result = torch.add(r,r2)\n",
    "print(add_result)"
   ]
  },
  {
   "cell_type": "code",
   "execution_count": 24,
   "metadata": {},
   "outputs": [
    {
     "name": "stdout",
     "output_type": "stream",
     "text": [
      "tensor([[-1.0977, -0.9308,  2.1427,  0.5429],\n",
      "        [ 1.0226,  0.3355,  0.0051, -0.0219],\n",
      "        [ 0.2184,  2.6497, -0.7222,  1.0847],\n",
      "        [ 1.3555, -2.0086,  0.8892,  0.7378]])\n"
     ]
    }
   ],
   "source": [
    "#In place addition (change the value of r2 and no need to assign to r2 it changes r2 directly) \n",
    "r2.add_(r) # r2 = torch.add(r,r2)\n",
    "print(r2)\n"
   ]
  },
  {
   "cell_type": "code",
   "execution_count": 25,
   "metadata": {},
   "outputs": [
    {
     "name": "stdout",
     "output_type": "stream",
     "text": [
      "tensor([-0.9308,  0.3355,  2.6497, -2.0086])\n",
      "tensor([[-1.0977, -0.9308],\n",
      "        [ 1.0226,  0.3355],\n",
      "        [ 0.2184,  2.6497],\n",
      "        [ 1.3555, -2.0086]])\n",
      "tensor([[-1.0977, -0.9308,  2.1427,  0.5429],\n",
      "        [ 1.0226,  0.3355,  0.0051, -0.0219],\n",
      "        [ 0.2184,  2.6497, -0.7222,  1.0847]])\n",
      "tensor(1.0847)\n",
      "1.0846613645553589\n",
      "tensor([ 0.2184,  2.6497, -0.7222,  1.0847])\n"
     ]
    }
   ],
   "source": [
    "#slicing \n",
    "print(r2[:, 1]) #all the rows from first columns\n",
    "print(r2[:, :2]) #all the rows from column 0 to 1 \n",
    "print(r2[:3,:]) #all the rows untill 2 and all the columns\n",
    "single_num = r2[2,3] #to extract single number\n",
    "print(single_num) # this gives a tensor\n",
    "print(single_num.item()) #to extract out number out of tensor\n",
    "print(r2[2, :]) #from second row all the columns"
   ]
  },
  {
   "cell_type": "markdown",
   "metadata": {},
   "source": [
    "## Numpy Bridge"
   ]
  },
  {
   "cell_type": "code",
   "execution_count": 26,
   "metadata": {},
   "outputs": [
    {
     "name": "stdout",
     "output_type": "stream",
     "text": [
      "[[1 2]\n",
      " [3 5]]\n"
     ]
    }
   ],
   "source": [
    "# create a numpy  array\n",
    "import numpy as np\n",
    "x = np.array([[1,2],[3,5]])\n",
    "print(x)"
   ]
  },
  {
   "cell_type": "code",
   "execution_count": 27,
   "metadata": {},
   "outputs": [
    {
     "name": "stdout",
     "output_type": "stream",
     "text": [
      "tensor([[1, 2],\n",
      "        [3, 5]])\n"
     ]
    }
   ],
   "source": [
    "#convert the numpy array to torch\n",
    "y = torch.from_numpy(x)\n",
    "print(y)"
   ]
  },
  {
   "cell_type": "code",
   "execution_count": 28,
   "metadata": {},
   "outputs": [
    {
     "name": "stdout",
     "output_type": "stream",
     "text": [
      "tensor([[1., 1., 1.],\n",
      "        [1., 1., 1.],\n",
      "        [1., 1., 1.]], dtype=torch.float64)\n",
      "[[1. 1. 1.]\n",
      " [1. 1. 1.]\n",
      " [1. 1. 1.]]\n"
     ]
    }
   ],
   "source": [
    "#convert a torch tensor to numpy array\n",
    "z = torch.ones(3,3, dtype = torch.double)\n",
    "print(z)\n",
    "a = z.numpy()\n",
    "print(a)"
   ]
  }
 ],
 "metadata": {
  "kernelspec": {
   "display_name": "Python 3",
   "language": "python",
   "name": "python3"
  },
  "language_info": {
   "codemirror_mode": {
    "name": "ipython",
    "version": 3
   },
   "file_extension": ".py",
   "mimetype": "text/x-python",
   "name": "python",
   "nbconvert_exporter": "python",
   "pygments_lexer": "ipython3",
   "version": "3.7.3"
  }
 },
 "nbformat": 4,
 "nbformat_minor": 4
}
